{
  "nbformat": 4,
  "nbformat_minor": 0,
  "metadata": {
    "colab": {
      "provenance": []
    },
    "kernelspec": {
      "name": "python3",
      "display_name": "Python 3"
    },
    "language_info": {
      "name": "python"
    }
  },
  "cells": [
    {
      "cell_type": "markdown",
      "source": [
        "\n",
        "# Laboratório: DW de Saúde Pública — COVID‑19 (Brasil)\n",
        "\n",
        "**Tema:** Saúde Pública (COVID‑19)  \n",
        "**Bases:**  \n",
        "1) **OWID COVID** (casos/óbitos por país) — CSV público  \n",
        "2) **OWID Vaccinations** (vacinação por país) — CSV público  \n",
        "3) **BrasilAPI Feriados** (enriquecimento de `dim_date` com `is_holiday`)\n",
        "\n",
        "> Objetivo: consolidar dados diários de COVID e vacinação para o Brasil em um **DW (Star Schema)**, realizar **ETL** com pandas e aplicar **clustering** para segmentar períodos epidemiológicos.\n"
      ],
      "metadata": {
        "id": "xq9RcesYHvx5"
      }
    },
    {
      "cell_type": "markdown",
      "source": [
        "\n",
        "## Bases (links)\n",
        "- OWID COVID: `https://raw.githubusercontent.com/owid/covid-19-data/master/public/data/owid-covid-data.csv`  \n",
        "- OWID Vaccinations: `https://raw.githubusercontent.com/owid/covid-19-data/master/public/data/vaccinations/vaccinations.csv`  \n",
        "- BrasilAPI (feriados por ano): `https://brasilapi.com.br/api/feriados/v1/{ANO}`\n",
        "\n",
        "> Se a internet estiver bloqueada, baixe os CSVs e coloque ao lado do notebook."
      ],
      "metadata": {
        "id": "DakccNSuoH2K"
      }
    },
    {
      "cell_type": "code",
      "execution_count": null,
      "metadata": {
        "id": "Ba88Y2TbHo65"
      },
      "outputs": [],
      "source": [
        "from google.colab import drive\n",
        "drive.mount('/content/drive/')"
      ]
    },
    {
      "cell_type": "code",
      "source": [
        "import pandas as pd\n",
        "import numpy as np\n",
        "import matplotlib.pyplot as plt\n",
        "from pathlib import Path\n",
        "import requests\n",
        "\n",
        "from sklearn.preprocessing import StandardScaler\n",
        "from sklearn.cluster import KMeans\n",
        "from sklearn.decomposition import PCA\n",
        "from sklearn.metrics import silhouette_score\n",
        "\n",
        "%matplotlib inline\n",
        "\n",
        "OUT_DIR = Path(\"/content/drive/MyDrive/dw_health_output_aula\")\n",
        "OUT_DIR.mkdir(exist_ok=True)"
      ],
      "metadata": {
        "id": "dHM30yT4plzG"
      },
      "execution_count": null,
      "outputs": []
    }
  ]
}