{
  "nbformat": 4,
  "nbformat_minor": 0,
  "metadata": {
    "colab": {
      "provenance": []
    },
    "kernelspec": {
      "name": "python3",
      "display_name": "Python 3"
    },
    "language_info": {
      "name": "python"
    }
  },
  "cells": [
    {
      "cell_type": "markdown",
      "source": [
        "\n",
        "# Laboratório: DW de Saúde Pública — COVID‑19 (Brasil)\n",
        "\n",
        "**Tema:** Saúde Pública (COVID‑19)  \n",
        "**Bases:**  \n",
        "1) **OWID COVID** (casos/óbitos por país) — CSV público  \n",
        "2) **OWID Vaccinations** (vacinação por país) — CSV público  \n",
        "3) **BrasilAPI Feriados** (enriquecimento de `dim_date` com `is_holiday`)\n",
        "\n",
        "> Objetivo: consolidar dados diários de COVID e vacinação para o Brasil em um **DW (Star Schema)**, realizar **ETL** com pandas e aplicar **clustering** para segmentar períodos epidemiológicos.\n"
      ],
      "metadata": {
        "id": "xq9RcesYHvx5"
      }
    },
    {
      "cell_type": "markdown",
      "source": [
        "\n",
        "## Bases (links)\n",
        "- OWID COVID: `https://raw.githubusercontent.com/owid/covid-19-data/master/public/data/owid-covid-data.csv`  \n",
        "- OWID Vaccinations: `https://raw.githubusercontent.com/owid/covid-19-data/master/public/data/vaccinations/vaccinations.csv`  \n",
        "- BrasilAPI (feriados por ano): `https://brasilapi.com.br/api/feriados/v1/{ANO}`\n",
        "\n",
        "> Se a internet estiver bloqueada, baixe os CSVs e coloque ao lado do notebook."
      ],
      "metadata": {
        "id": "DakccNSuoH2K"
      }
    },
    {
      "cell_type": "code",
      "execution_count": 1,
      "metadata": {
        "id": "Ba88Y2TbHo65",
        "colab": {
          "base_uri": "https://localhost:8080/"
        },
        "outputId": "a1202aa8-4797-4aa6-82ea-3db7031e4ba4"
      },
      "outputs": [
        {
          "output_type": "stream",
          "name": "stdout",
          "text": [
            "Mounted at /content/drive/\n"
          ]
        }
      ],
      "source": [
        "from google.colab import drive\n",
        "drive.mount('/content/drive/')"
      ]
    },
    {
      "cell_type": "code",
      "source": [
        "import pandas as pd\n",
        "import numpy as np\n",
        "import matplotlib.pyplot as plt\n",
        "from pathlib import Path\n",
        "import requests\n",
        "\n",
        "from sklearn.preprocessing import StandardScaler\n",
        "from sklearn.cluster import KMeans\n",
        "from sklearn.decomposition import PCA\n",
        "from sklearn.metrics import silhouette_score\n",
        "\n",
        "%matplotlib inline\n",
        "\n",
        "OUT_DIR = Path(\"/content/drive/MyDrive/dw_health_output_aula\")\n",
        "OUT_DIR.mkdir(exist_ok=True)"
      ],
      "metadata": {
        "id": "dHM30yT4plzG"
      },
      "execution_count": 2,
      "outputs": []
    },
    {
      "cell_type": "markdown",
      "source": [
        "# Nova seção\n",
        "## Modelo conceitual (Star Schema)\n",
        "\n",
        "Fato **`fact_covid_daily`** (granularidade: **dia-país**):  \n",
        "**Chaves:** `date_sk`, `location_sk`  \n",
        "**Medidas:** `new_cases`, `new_deaths`, `new_vaccinations`, `people_fully_vaccinated`, `stringency_index` (quando disponível)\n",
        "\n",
        "Dimensões:  \n",
        "- **`dim_date`**: `date_sk`, `date`, `year`, `month`, `day`, `is_holiday`  \n",
        "- **`dim_location`**: `location_sk`, `iso_code`, `location`, `continent`, `population`, `population_density`\n"
      ],
      "metadata": {
        "id": "eguNxmY_xLRd"
      }
    },
    {
      "cell_type": "markdown",
      "source": [
        "<pre style=\"font-size:13px; white-space:pre; overflow-x:auto;\">\n",
        "                   +-------------------+\n",
        "                   |     dim_date      |\n",
        "                   +-------------------+\n",
        "                   | date_sk (PK)      |\n",
        "                   | date              |\n",
        "                   | year              |\n",
        "                   | month             |\n",
        "                   | day               |\n",
        "                   | is_holiday        |\n",
        "                   +-------------------+\n",
        "                          |\n",
        "                          | (FK)\n",
        "                          |\n",
        "+-------------------+     |     +-------------------+\n",
        "|  dim_location     |     |     |  fact_covid_daily |\n",
        "+-------------------+     |     +-------------------+\n",
        "| location_sk (PK)  |-----+-----| date_sk (FK)      |\n",
        "| iso_code          |           | location_sk (FK)  |\n",
        "| location          |           | new_cases         |\n",
        "| continent         |           | new_deaths        |\n",
        "| population        |           | new_vaccinations  |\n",
        "| population_density|           | people_fully_vacc |\n",
        "+-------------------+           | stringency_index  |\n",
        "                                +-------------------+\n",
        "</pre>"
      ],
      "metadata": {
        "id": "bOubf6zAtF4G"
      }
    },
    {
      "cell_type": "code",
      "source": [
        "def read_csv_web_or_local(url):\n",
        "    fname = Path(url.split(\"/\")[-1])\n",
        "    full_output = OUT_DIR / fname\n",
        "\n",
        "    if full_output.exists():\n",
        "        print(\"✔ Lido do cache:\", full_output)\n",
        "        return pd.read_csv(full_output)\n",
        "\n",
        "    else:\n",
        "        print(\"✔ Lido da web:\", url)\n",
        "        try:\n",
        "            df = pd.read_csv(url)\n",
        "            print(\"✔ Lido da web:\", url)\n",
        "            if not full_output.exists():\n",
        "                df.to_csv(full_output, index=False)\n",
        "            return df\n",
        "        except Exception as e:\n",
        "            print(\"Web falhou:\", e)\n",
        "\n",
        "OWID_COVID = \"https://raw.githubusercontent.com/owid/covid-19-data/master/public/data/owid-covid-data.csv\"\n",
        "OWID_VAX = \"https://raw.githubusercontent.com/owid/covid-19-data/master/public/data/vaccinations/vaccinations.csv\"\n",
        "\n",
        "covid = read_csv_web_or_local(OWID_COVID)\n",
        "vax = read_csv_web_or_local(OWID_VAX)\n",
        "\n",
        "covid.shape, vax.shape"
      ],
      "metadata": {
        "colab": {
          "base_uri": "https://localhost:8080/"
        },
        "id": "vkckMR04vP-l",
        "outputId": "956e1722-06da-4a7a-9034-96eb79bd3979"
      },
      "execution_count": 3,
      "outputs": [
        {
          "output_type": "stream",
          "name": "stdout",
          "text": [
            "✔ Lido do cache: /content/drive/MyDrive/dw_health_output_aula/owid-covid-data.csv\n",
            "✔ Lido do cache: /content/drive/MyDrive/dw_health_output_aula/vaccinations.csv\n"
          ]
        },
        {
          "output_type": "execute_result",
          "data": {
            "text/plain": [
              "((429435, 67), (196246, 16))"
            ]
          },
          "metadata": {},
          "execution_count": 3
        }
      ]
    },
    {
      "cell_type": "code",
      "source": [
        "covid.columns"
      ],
      "metadata": {
        "id": "y64eEG8yvTjA",
        "colab": {
          "base_uri": "https://localhost:8080/"
        },
        "outputId": "2d8ad1fa-fee6-4764-8823-8e8081ac7f1a"
      },
      "execution_count": 4,
      "outputs": [
        {
          "output_type": "execute_result",
          "data": {
            "text/plain": [
              "Index(['iso_code', 'continent', 'location', 'date', 'total_cases', 'new_cases',\n",
              "       'new_cases_smoothed', 'total_deaths', 'new_deaths',\n",
              "       'new_deaths_smoothed', 'total_cases_per_million',\n",
              "       'new_cases_per_million', 'new_cases_smoothed_per_million',\n",
              "       'total_deaths_per_million', 'new_deaths_per_million',\n",
              "       'new_deaths_smoothed_per_million', 'reproduction_rate', 'icu_patients',\n",
              "       'icu_patients_per_million', 'hosp_patients',\n",
              "       'hosp_patients_per_million', 'weekly_icu_admissions',\n",
              "       'weekly_icu_admissions_per_million', 'weekly_hosp_admissions',\n",
              "       'weekly_hosp_admissions_per_million', 'total_tests', 'new_tests',\n",
              "       'total_tests_per_thousand', 'new_tests_per_thousand',\n",
              "       'new_tests_smoothed', 'new_tests_smoothed_per_thousand',\n",
              "       'positive_rate', 'tests_per_case', 'tests_units', 'total_vaccinations',\n",
              "       'people_vaccinated', 'people_fully_vaccinated', 'total_boosters',\n",
              "       'new_vaccinations', 'new_vaccinations_smoothed',\n",
              "       'total_vaccinations_per_hundred', 'people_vaccinated_per_hundred',\n",
              "       'people_fully_vaccinated_per_hundred', 'total_boosters_per_hundred',\n",
              "       'new_vaccinations_smoothed_per_million',\n",
              "       'new_people_vaccinated_smoothed',\n",
              "       'new_people_vaccinated_smoothed_per_hundred', 'stringency_index',\n",
              "       'population_density', 'median_age', 'aged_65_older', 'aged_70_older',\n",
              "       'gdp_per_capita', 'extreme_poverty', 'cardiovasc_death_rate',\n",
              "       'diabetes_prevalence', 'female_smokers', 'male_smokers',\n",
              "       'handwashing_facilities', 'hospital_beds_per_thousand',\n",
              "       'life_expectancy', 'human_development_index', 'population',\n",
              "       'excess_mortality_cumulative_absolute', 'excess_mortality_cumulative',\n",
              "       'excess_mortality', 'excess_mortality_cumulative_per_million'],\n",
              "      dtype='object')"
            ]
          },
          "metadata": {},
          "execution_count": 4
        }
      ]
    },
    {
      "cell_type": "code",
      "source": [
        "vax.columns"
      ],
      "metadata": {
        "colab": {
          "base_uri": "https://localhost:8080/"
        },
        "id": "0VmwrQE3d5wW",
        "outputId": "d68bb242-d9ac-4aca-ff21-e0ec6f7c22e5"
      },
      "execution_count": 5,
      "outputs": [
        {
          "output_type": "execute_result",
          "data": {
            "text/plain": [
              "Index(['location', 'iso_code', 'date', 'total_vaccinations',\n",
              "       'people_vaccinated', 'people_fully_vaccinated', 'total_boosters',\n",
              "       'daily_vaccinations_raw', 'daily_vaccinations',\n",
              "       'total_vaccinations_per_hundred', 'people_vaccinated_per_hundred',\n",
              "       'people_fully_vaccinated_per_hundred', 'total_boosters_per_hundred',\n",
              "       'daily_vaccinations_per_million', 'daily_people_vaccinated',\n",
              "       'daily_people_vaccinated_per_hundred'],\n",
              "      dtype='object')"
            ]
          },
          "metadata": {},
          "execution_count": 5
        }
      ]
    },
    {
      "cell_type": "code",
      "source": [
        "covid.dtypes"
      ],
      "metadata": {
        "colab": {
          "base_uri": "https://localhost:8080/",
          "height": 458
        },
        "id": "MYx-v64seA7Z",
        "outputId": "f2c95eab-3896-4b14-f3de-49be02e2b31f"
      },
      "execution_count": 6,
      "outputs": [
        {
          "output_type": "execute_result",
          "data": {
            "text/plain": [
              "iso_code                                    object\n",
              "continent                                   object\n",
              "location                                    object\n",
              "date                                        object\n",
              "total_cases                                float64\n",
              "                                            ...   \n",
              "population                                   int64\n",
              "excess_mortality_cumulative_absolute       float64\n",
              "excess_mortality_cumulative                float64\n",
              "excess_mortality                           float64\n",
              "excess_mortality_cumulative_per_million    float64\n",
              "Length: 67, dtype: object"
            ],
            "text/html": [
              "<div>\n",
              "<style scoped>\n",
              "    .dataframe tbody tr th:only-of-type {\n",
              "        vertical-align: middle;\n",
              "    }\n",
              "\n",
              "    .dataframe tbody tr th {\n",
              "        vertical-align: top;\n",
              "    }\n",
              "\n",
              "    .dataframe thead th {\n",
              "        text-align: right;\n",
              "    }\n",
              "</style>\n",
              "<table border=\"1\" class=\"dataframe\">\n",
              "  <thead>\n",
              "    <tr style=\"text-align: right;\">\n",
              "      <th></th>\n",
              "      <th>0</th>\n",
              "    </tr>\n",
              "  </thead>\n",
              "  <tbody>\n",
              "    <tr>\n",
              "      <th>iso_code</th>\n",
              "      <td>object</td>\n",
              "    </tr>\n",
              "    <tr>\n",
              "      <th>continent</th>\n",
              "      <td>object</td>\n",
              "    </tr>\n",
              "    <tr>\n",
              "      <th>location</th>\n",
              "      <td>object</td>\n",
              "    </tr>\n",
              "    <tr>\n",
              "      <th>date</th>\n",
              "      <td>object</td>\n",
              "    </tr>\n",
              "    <tr>\n",
              "      <th>total_cases</th>\n",
              "      <td>float64</td>\n",
              "    </tr>\n",
              "    <tr>\n",
              "      <th>...</th>\n",
              "      <td>...</td>\n",
              "    </tr>\n",
              "    <tr>\n",
              "      <th>population</th>\n",
              "      <td>int64</td>\n",
              "    </tr>\n",
              "    <tr>\n",
              "      <th>excess_mortality_cumulative_absolute</th>\n",
              "      <td>float64</td>\n",
              "    </tr>\n",
              "    <tr>\n",
              "      <th>excess_mortality_cumulative</th>\n",
              "      <td>float64</td>\n",
              "    </tr>\n",
              "    <tr>\n",
              "      <th>excess_mortality</th>\n",
              "      <td>float64</td>\n",
              "    </tr>\n",
              "    <tr>\n",
              "      <th>excess_mortality_cumulative_per_million</th>\n",
              "      <td>float64</td>\n",
              "    </tr>\n",
              "  </tbody>\n",
              "</table>\n",
              "<p>67 rows × 1 columns</p>\n",
              "</div><br><label><b>dtype:</b> object</label>"
            ]
          },
          "metadata": {},
          "execution_count": 6
        }
      ]
    },
    {
      "cell_type": "code",
      "source": [
        "covid[\"date\"] = pd.to_datetime(covid[\"date\"])\n",
        "vax[\"date\"] = pd.to_datetime(vax[\"date\"])"
      ],
      "metadata": {
        "id": "0dgzRJZne9Bh"
      },
      "execution_count": 7,
      "outputs": []
    },
    {
      "cell_type": "code",
      "source": [
        "print(covid.iloc[1000].to_json(indent=2))"
      ],
      "metadata": {
        "colab": {
          "base_uri": "https://localhost:8080/"
        },
        "id": "Bbg9-5lWfX2Z",
        "outputId": "bc42b7c8-9a3e-4e5e-efbc-1311d8b7f1f5"
      },
      "execution_count": 8,
      "outputs": [
        {
          "output_type": "stream",
          "name": "stdout",
          "text": [
            "{\n",
            "  \"iso_code\":\"AFG\",\n",
            "  \"continent\":\"Asia\",\n",
            "  \"location\":\"Afghanistan\",\n",
            "  \"date\":1664582400000,\n",
            "  \"total_cases\":198283.0,\n",
            "  \"new_cases\":0.0,\n",
            "  \"new_cases_smoothed\":171.57,\n",
            "  \"total_deaths\":7796.0,\n",
            "  \"new_deaths\":0.0,\n",
            "  \"new_deaths_smoothed\":0.29,\n",
            "  \"total_cases_per_million\":4886.36,\n",
            "  \"new_cases_per_million\":0.0,\n",
            "  \"new_cases_smoothed_per_million\":4.23,\n",
            "  \"total_deaths_per_million\":192.12,\n",
            "  \"new_deaths_per_million\":0.0,\n",
            "  \"new_deaths_smoothed_per_million\":0.01,\n",
            "  \"reproduction_rate\":0.91,\n",
            "  \"icu_patients\":null,\n",
            "  \"icu_patients_per_million\":null,\n",
            "  \"hosp_patients\":null,\n",
            "  \"hosp_patients_per_million\":null,\n",
            "  \"weekly_icu_admissions\":null,\n",
            "  \"weekly_icu_admissions_per_million\":null,\n",
            "  \"weekly_hosp_admissions\":null,\n",
            "  \"weekly_hosp_admissions_per_million\":null,\n",
            "  \"total_tests\":null,\n",
            "  \"new_tests\":null,\n",
            "  \"total_tests_per_thousand\":null,\n",
            "  \"new_tests_per_thousand\":null,\n",
            "  \"new_tests_smoothed\":null,\n",
            "  \"new_tests_smoothed_per_thousand\":null,\n",
            "  \"positive_rate\":null,\n",
            "  \"tests_per_case\":null,\n",
            "  \"tests_units\":null,\n",
            "  \"total_vaccinations\":null,\n",
            "  \"people_vaccinated\":null,\n",
            "  \"people_fully_vaccinated\":null,\n",
            "  \"total_boosters\":null,\n",
            "  \"new_vaccinations\":null,\n",
            "  \"new_vaccinations_smoothed\":6762.0,\n",
            "  \"total_vaccinations_per_hundred\":null,\n",
            "  \"people_vaccinated_per_hundred\":null,\n",
            "  \"people_fully_vaccinated_per_hundred\":null,\n",
            "  \"total_boosters_per_hundred\":null,\n",
            "  \"new_vaccinations_smoothed_per_million\":164.0,\n",
            "  \"new_people_vaccinated_smoothed\":5747.0,\n",
            "  \"new_people_vaccinated_smoothed_per_hundred\":0.01,\n",
            "  \"stringency_index\":5.56,\n",
            "  \"population_density\":54.42,\n",
            "  \"median_age\":18.6,\n",
            "  \"aged_65_older\":2.58,\n",
            "  \"aged_70_older\":1.34,\n",
            "  \"gdp_per_capita\":1803.99,\n",
            "  \"extreme_poverty\":null,\n",
            "  \"cardiovasc_death_rate\":597.03,\n",
            "  \"diabetes_prevalence\":9.59,\n",
            "  \"female_smokers\":null,\n",
            "  \"male_smokers\":null,\n",
            "  \"handwashing_facilities\":37.75,\n",
            "  \"hospital_beds_per_thousand\":0.5,\n",
            "  \"life_expectancy\":64.83,\n",
            "  \"human_development_index\":0.51,\n",
            "  \"population\":41128772,\n",
            "  \"excess_mortality_cumulative_absolute\":null,\n",
            "  \"excess_mortality_cumulative\":null,\n",
            "  \"excess_mortality\":null,\n",
            "  \"excess_mortality_cumulative_per_million\":null\n",
            "}\n"
          ]
        }
      ]
    }
  ]
}