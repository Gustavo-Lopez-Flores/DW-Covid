{
  "nbformat": 4,
  "nbformat_minor": 0,
  "metadata": {
    "colab": {
      "provenance": []
    },
    "kernelspec": {
      "name": "python3",
      "display_name": "Python 3"
    },
    "language_info": {
      "name": "python"
    }
  },
  "cells": [
    {
      "cell_type": "markdown",
      "source": [
        "\n",
        "# Laboratório: DW de Saúde Pública — COVID‑19 (Brasil)\n",
        "\n",
        "**Tema:** Saúde Pública (COVID‑19)  \n",
        "**Bases:**  \n",
        "1) **OWID COVID** (casos/óbitos por país) — CSV público  \n",
        "2) **OWID Vaccinations** (vacinação por país) — CSV público  \n",
        "3) **BrasilAPI Feriados** (enriquecimento de `dim_date` com `is_holiday`)\n",
        "\n",
        "> Objetivo: consolidar dados diários de COVID e vacinação para o Brasil em um **DW (Star Schema)**, realizar **ETL** com pandas e aplicar **clustering** para segmentar períodos epidemiológicos.\n"
      ],
      "metadata": {
        "id": "xq9RcesYHvx5"
      }
    },
    {
      "cell_type": "code",
      "execution_count": null,
      "metadata": {
        "id": "Ba88Y2TbHo65"
      },
      "outputs": [],
      "source": []
    }
  ]
}